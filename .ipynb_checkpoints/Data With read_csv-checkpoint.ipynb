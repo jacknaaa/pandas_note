{
 "cells": [
  {
   "cell_type": "code",
   "execution_count": 1,
   "id": "213ba5f0-7b02-4498-bc2c-b7e2551d7cf5",
   "metadata": {},
   "outputs": [],
   "source": [
    "import pandas as pd\n",
    "import numpy as np"
   ]
  },
  {
   "cell_type": "code",
   "execution_count": 3,
   "id": "05c6061b-810f-4249-a088-49e9b15548e2",
   "metadata": {},
   "outputs": [
    {
     "data": {
      "text/plain": [
       "'2.2.2'"
      ]
     },
     "execution_count": 3,
     "metadata": {},
     "output_type": "execute_result"
    }
   ],
   "source": [
    "pd.__version__ "
   ]
  },
  {
   "cell_type": "code",
   "execution_count": 5,
   "id": "fdccdbdc-87e7-4593-8578-35da71520ab5",
   "metadata": {},
   "outputs": [
    {
     "data": {
      "text/html": [
       "<div>\n",
       "<style scoped>\n",
       "    .dataframe tbody tr th:only-of-type {\n",
       "        vertical-align: middle;\n",
       "    }\n",
       "\n",
       "    .dataframe tbody tr th {\n",
       "        vertical-align: top;\n",
       "    }\n",
       "\n",
       "    .dataframe thead th {\n",
       "        text-align: right;\n",
       "    }\n",
       "</style>\n",
       "<table border=\"1\" class=\"dataframe\">\n",
       "  <thead>\n",
       "    <tr style=\"text-align: right;\">\n",
       "      <th></th>\n",
       "      <th>country</th>\n",
       "      <th>beer_servings</th>\n",
       "      <th>spirit_servings</th>\n",
       "      <th>wine_servings</th>\n",
       "      <th>total_litres_of_pure_alcohol</th>\n",
       "    </tr>\n",
       "  </thead>\n",
       "  <tbody>\n",
       "    <tr>\n",
       "      <th>0</th>\n",
       "      <td>Afghanistan</td>\n",
       "      <td>NaN</td>\n",
       "      <td>NaN</td>\n",
       "      <td>NaN</td>\n",
       "      <td>NaN</td>\n",
       "    </tr>\n",
       "    <tr>\n",
       "      <th>1</th>\n",
       "      <td>Albania</td>\n",
       "      <td>89.0</td>\n",
       "      <td>132.0</td>\n",
       "      <td>54.0</td>\n",
       "      <td>4.9</td>\n",
       "    </tr>\n",
       "    <tr>\n",
       "      <th>2</th>\n",
       "      <td>Algeria</td>\n",
       "      <td>25.0</td>\n",
       "      <td>NaN</td>\n",
       "      <td>14.0</td>\n",
       "      <td>0.7</td>\n",
       "    </tr>\n",
       "    <tr>\n",
       "      <th>3</th>\n",
       "      <td>Andorra</td>\n",
       "      <td>245.0</td>\n",
       "      <td>138.0</td>\n",
       "      <td>312.0</td>\n",
       "      <td>12.4</td>\n",
       "    </tr>\n",
       "    <tr>\n",
       "      <th>4</th>\n",
       "      <td>Angola</td>\n",
       "      <td>217.0</td>\n",
       "      <td>57.0</td>\n",
       "      <td>45.0</td>\n",
       "      <td>5.9</td>\n",
       "    </tr>\n",
       "    <tr>\n",
       "      <th>...</th>\n",
       "      <td>...</td>\n",
       "      <td>...</td>\n",
       "      <td>...</td>\n",
       "      <td>...</td>\n",
       "      <td>...</td>\n",
       "    </tr>\n",
       "    <tr>\n",
       "      <th>188</th>\n",
       "      <td>Venezuela</td>\n",
       "      <td>333.0</td>\n",
       "      <td>1.0</td>\n",
       "      <td>3.0</td>\n",
       "      <td>7.7</td>\n",
       "    </tr>\n",
       "    <tr>\n",
       "      <th>189</th>\n",
       "      <td>Vietnam</td>\n",
       "      <td>111.0</td>\n",
       "      <td>2.0</td>\n",
       "      <td>1.0</td>\n",
       "      <td>2.0</td>\n",
       "    </tr>\n",
       "    <tr>\n",
       "      <th>190</th>\n",
       "      <td>Yemen</td>\n",
       "      <td>6.0</td>\n",
       "      <td>NaN</td>\n",
       "      <td>NaN</td>\n",
       "      <td>0.1</td>\n",
       "    </tr>\n",
       "    <tr>\n",
       "      <th>191</th>\n",
       "      <td>Zambia</td>\n",
       "      <td>32.0</td>\n",
       "      <td>19.0</td>\n",
       "      <td>4.0</td>\n",
       "      <td>2.5</td>\n",
       "    </tr>\n",
       "    <tr>\n",
       "      <th>192</th>\n",
       "      <td>Zimbabwe</td>\n",
       "      <td>64.0</td>\n",
       "      <td>18.0</td>\n",
       "      <td>4.0</td>\n",
       "      <td>4.7</td>\n",
       "    </tr>\n",
       "  </tbody>\n",
       "</table>\n",
       "<p>193 rows × 5 columns</p>\n",
       "</div>"
      ],
      "text/plain": [
       "         country  beer_servings  spirit_servings  wine_servings  \\\n",
       "0    Afghanistan            NaN              NaN            NaN   \n",
       "1        Albania           89.0            132.0           54.0   \n",
       "2        Algeria           25.0              NaN           14.0   \n",
       "3        Andorra          245.0            138.0          312.0   \n",
       "4         Angola          217.0             57.0           45.0   \n",
       "..           ...            ...              ...            ...   \n",
       "188    Venezuela          333.0              1.0            3.0   \n",
       "189      Vietnam          111.0              2.0            1.0   \n",
       "190        Yemen            6.0              NaN            NaN   \n",
       "191       Zambia           32.0             19.0            4.0   \n",
       "192     Zimbabwe           64.0             18.0            4.0   \n",
       "\n",
       "     total_litres_of_pure_alcohol  \n",
       "0                             NaN  \n",
       "1                             4.9  \n",
       "2                             0.7  \n",
       "3                            12.4  \n",
       "4                             5.9  \n",
       "..                            ...  \n",
       "188                           7.7  \n",
       "189                           2.0  \n",
       "190                           0.1  \n",
       "191                           2.5  \n",
       "192                           4.7  \n",
       "\n",
       "[193 rows x 5 columns]"
      ]
     },
     "execution_count": 5,
     "metadata": {},
     "output_type": "execute_result"
    }
   ],
   "source": [
    "pd.read_csv('https://andybek.com/pandas-drinks')"
   ]
  },
  {
   "cell_type": "code",
   "execution_count": 7,
   "id": "a6742a87-3883-47d8-8f8b-85c663b45039",
   "metadata": {},
   "outputs": [
    {
     "data": {
      "text/html": [
       "<div>\n",
       "<style scoped>\n",
       "    .dataframe tbody tr th:only-of-type {\n",
       "        vertical-align: middle;\n",
       "    }\n",
       "\n",
       "    .dataframe tbody tr th {\n",
       "        vertical-align: top;\n",
       "    }\n",
       "\n",
       "    .dataframe thead th {\n",
       "        text-align: right;\n",
       "    }\n",
       "</style>\n",
       "<table border=\"1\" class=\"dataframe\">\n",
       "  <thead>\n",
       "    <tr style=\"text-align: right;\">\n",
       "      <th></th>\n",
       "      <th>country</th>\n",
       "      <th>wine_servings</th>\n",
       "    </tr>\n",
       "  </thead>\n",
       "  <tbody>\n",
       "    <tr>\n",
       "      <th>0</th>\n",
       "      <td>Afghanistan</td>\n",
       "      <td>NaN</td>\n",
       "    </tr>\n",
       "    <tr>\n",
       "      <th>1</th>\n",
       "      <td>Albania</td>\n",
       "      <td>54.0</td>\n",
       "    </tr>\n",
       "    <tr>\n",
       "      <th>2</th>\n",
       "      <td>Algeria</td>\n",
       "      <td>14.0</td>\n",
       "    </tr>\n",
       "    <tr>\n",
       "      <th>3</th>\n",
       "      <td>Andorra</td>\n",
       "      <td>312.0</td>\n",
       "    </tr>\n",
       "    <tr>\n",
       "      <th>4</th>\n",
       "      <td>Angola</td>\n",
       "      <td>45.0</td>\n",
       "    </tr>\n",
       "    <tr>\n",
       "      <th>...</th>\n",
       "      <td>...</td>\n",
       "      <td>...</td>\n",
       "    </tr>\n",
       "    <tr>\n",
       "      <th>188</th>\n",
       "      <td>Venezuela</td>\n",
       "      <td>3.0</td>\n",
       "    </tr>\n",
       "    <tr>\n",
       "      <th>189</th>\n",
       "      <td>Vietnam</td>\n",
       "      <td>1.0</td>\n",
       "    </tr>\n",
       "    <tr>\n",
       "      <th>190</th>\n",
       "      <td>Yemen</td>\n",
       "      <td>NaN</td>\n",
       "    </tr>\n",
       "    <tr>\n",
       "      <th>191</th>\n",
       "      <td>Zambia</td>\n",
       "      <td>4.0</td>\n",
       "    </tr>\n",
       "    <tr>\n",
       "      <th>192</th>\n",
       "      <td>Zimbabwe</td>\n",
       "      <td>4.0</td>\n",
       "    </tr>\n",
       "  </tbody>\n",
       "</table>\n",
       "<p>193 rows × 2 columns</p>\n",
       "</div>"
      ],
      "text/plain": [
       "         country  wine_servings\n",
       "0    Afghanistan            NaN\n",
       "1        Albania           54.0\n",
       "2        Algeria           14.0\n",
       "3        Andorra          312.0\n",
       "4         Angola           45.0\n",
       "..           ...            ...\n",
       "188    Venezuela            3.0\n",
       "189      Vietnam            1.0\n",
       "190        Yemen            NaN\n",
       "191       Zambia            4.0\n",
       "192     Zimbabwe            4.0\n",
       "\n",
       "[193 rows x 2 columns]"
      ]
     },
     "execution_count": 7,
     "metadata": {},
     "output_type": "execute_result"
    }
   ],
   "source": [
    "pd.read_csv('https://andybek.com/pandas-drinks', usecols=['country', 'wine_servings'])"
   ]
  },
  {
   "cell_type": "code",
   "execution_count": 11,
   "id": "6cd18180-1602-481f-93bf-0c61725e6d8c",
   "metadata": {},
   "outputs": [],
   "source": [
    "alcohol = pd.read_csv('https://andybek.com/pandas-drinks', usecols=['country', 'wine_servings'], index_col='country')"
   ]
  },
  {
   "cell_type": "code",
   "execution_count": 13,
   "id": "53ae45c3-8240-466a-b4f0-0d721e41b3df",
   "metadata": {},
   "outputs": [
    {
     "data": {
      "text/html": [
       "<div>\n",
       "<style scoped>\n",
       "    .dataframe tbody tr th:only-of-type {\n",
       "        vertical-align: middle;\n",
       "    }\n",
       "\n",
       "    .dataframe tbody tr th {\n",
       "        vertical-align: top;\n",
       "    }\n",
       "\n",
       "    .dataframe thead th {\n",
       "        text-align: right;\n",
       "    }\n",
       "</style>\n",
       "<table border=\"1\" class=\"dataframe\">\n",
       "  <thead>\n",
       "    <tr style=\"text-align: right;\">\n",
       "      <th></th>\n",
       "      <th>wine_servings</th>\n",
       "    </tr>\n",
       "    <tr>\n",
       "      <th>country</th>\n",
       "      <th></th>\n",
       "    </tr>\n",
       "  </thead>\n",
       "  <tbody>\n",
       "    <tr>\n",
       "      <th>Afghanistan</th>\n",
       "      <td>NaN</td>\n",
       "    </tr>\n",
       "    <tr>\n",
       "      <th>Albania</th>\n",
       "      <td>54.0</td>\n",
       "    </tr>\n",
       "    <tr>\n",
       "      <th>Algeria</th>\n",
       "      <td>14.0</td>\n",
       "    </tr>\n",
       "    <tr>\n",
       "      <th>Andorra</th>\n",
       "      <td>312.0</td>\n",
       "    </tr>\n",
       "    <tr>\n",
       "      <th>Angola</th>\n",
       "      <td>45.0</td>\n",
       "    </tr>\n",
       "  </tbody>\n",
       "</table>\n",
       "</div>"
      ],
      "text/plain": [
       "             wine_servings\n",
       "country                   \n",
       "Afghanistan            NaN\n",
       "Albania               54.0\n",
       "Algeria               14.0\n",
       "Andorra              312.0\n",
       "Angola                45.0"
      ]
     },
     "execution_count": 13,
     "metadata": {},
     "output_type": "execute_result"
    }
   ],
   "source": [
    "alcohol.head()"
   ]
  },
  {
   "cell_type": "code",
   "execution_count": 15,
   "id": "5e70028f-2dad-4c23-8b9b-15f57005be1e",
   "metadata": {},
   "outputs": [
    {
     "data": {
      "text/plain": [
       "pandas.core.frame.DataFrame"
      ]
     },
     "execution_count": 15,
     "metadata": {},
     "output_type": "execute_result"
    }
   ],
   "source": [
    "type(alcohol)"
   ]
  },
  {
   "cell_type": "code",
   "execution_count": 17,
   "id": "7d52ca95-d085-466c-bfd1-b18d901a0369",
   "metadata": {},
   "outputs": [
    {
     "data": {
      "text/plain": [
       "193"
      ]
     },
     "execution_count": 17,
     "metadata": {},
     "output_type": "execute_result"
    }
   ],
   "source": [
    "alcohol.size"
   ]
  },
  {
   "cell_type": "code",
   "execution_count": 19,
   "id": "70129249-a6a5-4e65-9e9e-085fc9fe5193",
   "metadata": {},
   "outputs": [
    {
     "data": {
      "text/html": [
       "<div>\n",
       "<style scoped>\n",
       "    .dataframe tbody tr th:only-of-type {\n",
       "        vertical-align: middle;\n",
       "    }\n",
       "\n",
       "    .dataframe tbody tr th {\n",
       "        vertical-align: top;\n",
       "    }\n",
       "\n",
       "    .dataframe thead th {\n",
       "        text-align: right;\n",
       "    }\n",
       "</style>\n",
       "<table border=\"1\" class=\"dataframe\">\n",
       "  <thead>\n",
       "    <tr style=\"text-align: right;\">\n",
       "      <th></th>\n",
       "      <th>wine_servings</th>\n",
       "    </tr>\n",
       "    <tr>\n",
       "      <th>country</th>\n",
       "      <th></th>\n",
       "    </tr>\n",
       "  </thead>\n",
       "  <tbody>\n",
       "    <tr>\n",
       "      <th>Afghanistan</th>\n",
       "      <td>NaN</td>\n",
       "    </tr>\n",
       "    <tr>\n",
       "      <th>Albania</th>\n",
       "      <td>54.0</td>\n",
       "    </tr>\n",
       "    <tr>\n",
       "      <th>Algeria</th>\n",
       "      <td>14.0</td>\n",
       "    </tr>\n",
       "    <tr>\n",
       "      <th>Andorra</th>\n",
       "      <td>312.0</td>\n",
       "    </tr>\n",
       "    <tr>\n",
       "      <th>Angola</th>\n",
       "      <td>45.0</td>\n",
       "    </tr>\n",
       "    <tr>\n",
       "      <th>...</th>\n",
       "      <td>...</td>\n",
       "    </tr>\n",
       "    <tr>\n",
       "      <th>Venezuela</th>\n",
       "      <td>3.0</td>\n",
       "    </tr>\n",
       "    <tr>\n",
       "      <th>Vietnam</th>\n",
       "      <td>1.0</td>\n",
       "    </tr>\n",
       "    <tr>\n",
       "      <th>Yemen</th>\n",
       "      <td>NaN</td>\n",
       "    </tr>\n",
       "    <tr>\n",
       "      <th>Zambia</th>\n",
       "      <td>4.0</td>\n",
       "    </tr>\n",
       "    <tr>\n",
       "      <th>Zimbabwe</th>\n",
       "      <td>4.0</td>\n",
       "    </tr>\n",
       "  </tbody>\n",
       "</table>\n",
       "<p>193 rows × 1 columns</p>\n",
       "</div>"
      ],
      "text/plain": [
       "             wine_servings\n",
       "country                   \n",
       "Afghanistan            NaN\n",
       "Albania               54.0\n",
       "Algeria               14.0\n",
       "Andorra              312.0\n",
       "Angola                45.0\n",
       "...                    ...\n",
       "Venezuela              3.0\n",
       "Vietnam                1.0\n",
       "Yemen                  NaN\n",
       "Zambia                 4.0\n",
       "Zimbabwe               4.0\n",
       "\n",
       "[193 rows x 1 columns]"
      ]
     },
     "execution_count": 19,
     "metadata": {},
     "output_type": "execute_result"
    }
   ],
   "source": [
    "alcohol"
   ]
  },
  {
   "cell_type": "code",
   "execution_count": 21,
   "id": "a49fa617-790d-441b-ac86-f0c2a5322d97",
   "metadata": {},
   "outputs": [
    {
     "data": {
      "text/plain": [
       "array([[ nan],\n",
       "       [ 54.],\n",
       "       [ 14.],\n",
       "       [312.],\n",
       "       [ 45.],\n",
       "       [ 45.],\n",
       "       [221.],\n",
       "       [ 11.],\n",
       "       [212.],\n",
       "       [191.],\n",
       "       [  5.],\n",
       "       [ 51.],\n",
       "       [  7.],\n",
       "       [ nan],\n",
       "       [ 36.],\n",
       "       [ 42.],\n",
       "       [212.],\n",
       "       [  8.],\n",
       "       [ 13.],\n",
       "       [ nan],\n",
       "       [  8.],\n",
       "       [  8.],\n",
       "       [ 35.],\n",
       "       [ 16.],\n",
       "       [  1.],\n",
       "       [ 94.],\n",
       "       [  7.],\n",
       "       [ nan],\n",
       "       [  7.],\n",
       "       [ 16.],\n",
       "       [  1.],\n",
       "       [  4.],\n",
       "       [  1.],\n",
       "       [  1.],\n",
       "       [  1.],\n",
       "       [172.],\n",
       "       [  8.],\n",
       "       [  3.],\n",
       "       [  1.],\n",
       "       [  9.],\n",
       "       [ 74.],\n",
       "       [ 11.],\n",
       "       [254.],\n",
       "       [  5.],\n",
       "       [113.],\n",
       "       [134.],\n",
       "       [ nan],\n",
       "       [  1.],\n",
       "       [278.],\n",
       "       [  3.],\n",
       "       [ 26.],\n",
       "       [  9.],\n",
       "       [  3.],\n",
       "       [  1.],\n",
       "       [  2.],\n",
       "       [233.],\n",
       "       [ nan],\n",
       "       [ 59.],\n",
       "       [ nan],\n",
       "       [  1.],\n",
       "       [ 97.],\n",
       "       [ 37.],\n",
       "       [ 59.],\n",
       "       [  1.],\n",
       "       [149.],\n",
       "       [175.],\n",
       "       [  1.],\n",
       "       [218.],\n",
       "       [ 28.],\n",
       "       [  2.],\n",
       "       [  2.],\n",
       "       [ 21.],\n",
       "       [  1.],\n",
       "       [  1.],\n",
       "       [  2.],\n",
       "       [185.],\n",
       "       [ 78.],\n",
       "       [ nan],\n",
       "       [ nan],\n",
       "       [ nan],\n",
       "       [ nan],\n",
       "       [165.],\n",
       "       [  9.],\n",
       "       [237.],\n",
       "       [  9.],\n",
       "       [ 16.],\n",
       "       [  1.],\n",
       "       [ 12.],\n",
       "       [  2.],\n",
       "       [  1.],\n",
       "       [ nan],\n",
       "       [  6.],\n",
       "       [123.],\n",
       "       [ 62.],\n",
       "       [ 31.],\n",
       "       [ nan],\n",
       "       [  2.],\n",
       "       [ nan],\n",
       "       [ 56.],\n",
       "       [271.],\n",
       "       [  4.],\n",
       "       [  1.],\n",
       "       [ nan],\n",
       "       [ nan],\n",
       "       [  1.],\n",
       "       [ 12.],\n",
       "       [ nan],\n",
       "       [ nan],\n",
       "       [ 18.],\n",
       "       [  5.],\n",
       "       [ 18.],\n",
       "       [ nan],\n",
       "       [  8.],\n",
       "       [128.],\n",
       "       [  1.],\n",
       "       [  5.],\n",
       "       [ nan],\n",
       "       [  1.],\n",
       "       [  8.],\n",
       "       [ nan],\n",
       "       [ 19.],\n",
       "       [175.],\n",
       "       [  1.],\n",
       "       [  1.],\n",
       "       [  2.],\n",
       "       [  7.],\n",
       "       [129.],\n",
       "       [  1.],\n",
       "       [ nan],\n",
       "       [ 23.],\n",
       "       [ 18.],\n",
       "       [  1.],\n",
       "       [ 74.],\n",
       "       [ 21.],\n",
       "       [  1.],\n",
       "       [ 56.],\n",
       "       [339.],\n",
       "       [  7.],\n",
       "       [  9.],\n",
       "       [ 18.],\n",
       "       [167.],\n",
       "       [ 73.],\n",
       "       [ nan],\n",
       "       [ 32.],\n",
       "       [ 71.],\n",
       "       [ 11.],\n",
       "       [ 24.],\n",
       "       [ nan],\n",
       "       [ 14.],\n",
       "       [ nan],\n",
       "       [  7.],\n",
       "       [127.],\n",
       "       [ 51.],\n",
       "       [  2.],\n",
       "       [ 11.],\n",
       "       [116.],\n",
       "       [276.],\n",
       "       [  1.],\n",
       "       [ nan],\n",
       "       [ 81.],\n",
       "       [112.],\n",
       "       [ nan],\n",
       "       [ nan],\n",
       "       [  7.],\n",
       "       [  2.],\n",
       "       [186.],\n",
       "       [ 28.],\n",
       "       [ 16.],\n",
       "       [ nan],\n",
       "       [  1.],\n",
       "       [ 86.],\n",
       "       [  4.],\n",
       "       [ 19.],\n",
       "       [  5.],\n",
       "       [  7.],\n",
       "       [  2.],\n",
       "       [  7.],\n",
       "       [ 32.],\n",
       "       [  9.],\n",
       "       [ nan],\n",
       "       [ 45.],\n",
       "       [  5.],\n",
       "       [195.],\n",
       "       [  1.],\n",
       "       [ 84.],\n",
       "       [ 22.],\n",
       "       [  8.],\n",
       "       [ 11.],\n",
       "       [  3.],\n",
       "       [  1.],\n",
       "       [ nan],\n",
       "       [  4.],\n",
       "       [  4.]])"
      ]
     },
     "execution_count": 21,
     "metadata": {},
     "output_type": "execute_result"
    }
   ],
   "source": [
    "alcohol.values"
   ]
  },
  {
   "cell_type": "code",
   "execution_count": 23,
   "id": "32acb37f-79a3-4067-97f9-c8d59d847f5a",
   "metadata": {},
   "outputs": [
    {
     "data": {
      "text/plain": [
       "Index(['Afghanistan', 'Albania', 'Algeria', 'Andorra', 'Angola',\n",
       "       'Antigua & Barbuda', 'Argentina', 'Armenia', 'Australia', 'Austria',\n",
       "       ...\n",
       "       'Tanzania', 'USA', 'Uruguay', 'Uzbekistan', 'Vanuatu', 'Venezuela',\n",
       "       'Vietnam', 'Yemen', 'Zambia', 'Zimbabwe'],\n",
       "      dtype='object', name='country', length=193)"
      ]
     },
     "execution_count": 23,
     "metadata": {},
     "output_type": "execute_result"
    }
   ],
   "source": [
    "alcohol.index"
   ]
  },
  {
   "cell_type": "code",
   "execution_count": 25,
   "id": "f7c9490e-a801-46e5-acd1-30cd7ced0b51",
   "metadata": {},
   "outputs": [
    {
     "data": {
      "text/plain": [
       "True"
      ]
     },
     "execution_count": 25,
     "metadata": {},
     "output_type": "execute_result"
    }
   ],
   "source": [
    "alcohol.values.size == alcohol.index.size"
   ]
  },
  {
   "cell_type": "code",
   "execution_count": 36,
   "id": "59b9c12d-2ada-4d0a-89e6-7d9a339fb44e",
   "metadata": {},
   "outputs": [
    {
     "data": {
      "text/plain": [
       "(193, 1)"
      ]
     },
     "execution_count": 36,
     "metadata": {},
     "output_type": "execute_result"
    }
   ],
   "source": [
    "alcohol.shape"
   ]
  },
  {
   "cell_type": "code",
   "execution_count": 38,
   "id": "36159dad-7924-48f4-9505-19b170ce5047",
   "metadata": {},
   "outputs": [
    {
     "data": {
      "text/plain": [
       "True"
      ]
     },
     "execution_count": 38,
     "metadata": {},
     "output_type": "execute_result"
    }
   ],
   "source": [
    "alcohol.size == alcohol.shape[0]"
   ]
  },
  {
   "cell_type": "code",
   "execution_count": 40,
   "id": "f0e22bbd-2752-4aa8-bf23-716d9cba2a2a",
   "metadata": {},
   "outputs": [
    {
     "data": {
      "text/plain": [
       "193"
      ]
     },
     "execution_count": 40,
     "metadata": {},
     "output_type": "execute_result"
    }
   ],
   "source": [
    "len(alcohol)"
   ]
  },
  {
   "cell_type": "markdown",
   "id": "f3eff36a-c3de-4679-92b1-0e8e2cb87492",
   "metadata": {},
   "source": [
    "Unique Values And Series Monotonicity"
   ]
  },
  {
   "cell_type": "code",
   "execution_count": 58,
   "id": "aea6f7fb-dfd3-405b-a43b-91d1698b1e23",
   "metadata": {},
   "outputs": [],
   "source": [
    "df = pd.DataFrame(alcohol)"
   ]
  },
  {
   "cell_type": "code",
   "execution_count": 68,
   "id": "67c0b715-e373-46b9-bb2e-b9e5744ef1de",
   "metadata": {},
   "outputs": [],
   "source": [
    "# Check for duplicates across all columns\n",
    "duplicates = df.duplicated()"
   ]
  },
  {
   "cell_type": "code",
   "execution_count": 64,
   "id": "efa4f478-756f-4c9b-b1ae-d5e5776325ef",
   "metadata": {},
   "outputs": [
    {
     "name": "stdout",
     "output_type": "stream",
     "text": [
      "                   wine_servings\n",
      "country                         \n",
      "Antigua & Barbuda           45.0\n",
      "Bangladesh                   NaN\n",
      "Belgium                    212.0\n",
      "Bhutan                       NaN\n",
      "Bolivia                      8.0\n",
      "...                          ...\n",
      "Venezuela                    3.0\n",
      "Vietnam                      1.0\n",
      "Yemen                        NaN\n",
      "Zambia                       4.0\n",
      "Zimbabwe                     4.0\n",
      "\n",
      "[121 rows x 1 columns]\n"
     ]
    }
   ],
   "source": [
    "# Get the duplicate rows\n",
    "duplicate_rows = df[duplicates]\n",
    "\n",
    "print(duplicate_rows)"
   ]
  },
  {
   "cell_type": "markdown",
   "id": "2b3e756f-02d4-4465-8457-7d2ce664b463",
   "metadata": {},
   "source": [
    "# Keep the first occurrence of the duplicate row\n",
    "df.drop_duplicates(keep='first') \n",
    "\n",
    "# Keep the last occurrence of the duplicate row\n",
    "df.drop_duplicates(keep='last') \n",
    "\n",
    "# Drop all duplicate rows\n",
    "df.drop_duplicates(keep=False) "
   ]
  },
  {
   "cell_type": "code",
   "execution_count": 70,
   "id": "03b35c80-5e46-4e88-998b-eb3cadcab972",
   "metadata": {},
   "outputs": [
    {
     "data": {
      "text/html": [
       "<div>\n",
       "<style scoped>\n",
       "    .dataframe tbody tr th:only-of-type {\n",
       "        vertical-align: middle;\n",
       "    }\n",
       "\n",
       "    .dataframe tbody tr th {\n",
       "        vertical-align: top;\n",
       "    }\n",
       "\n",
       "    .dataframe thead th {\n",
       "        text-align: right;\n",
       "    }\n",
       "</style>\n",
       "<table border=\"1\" class=\"dataframe\">\n",
       "  <thead>\n",
       "    <tr style=\"text-align: right;\">\n",
       "      <th></th>\n",
       "      <th>wine_servings</th>\n",
       "    </tr>\n",
       "    <tr>\n",
       "      <th>country</th>\n",
       "      <th></th>\n",
       "    </tr>\n",
       "  </thead>\n",
       "  <tbody>\n",
       "    <tr>\n",
       "      <th>Afghanistan</th>\n",
       "      <td>True</td>\n",
       "    </tr>\n",
       "    <tr>\n",
       "      <th>Albania</th>\n",
       "      <td>False</td>\n",
       "    </tr>\n",
       "    <tr>\n",
       "      <th>Algeria</th>\n",
       "      <td>False</td>\n",
       "    </tr>\n",
       "    <tr>\n",
       "      <th>Andorra</th>\n",
       "      <td>False</td>\n",
       "    </tr>\n",
       "    <tr>\n",
       "      <th>Angola</th>\n",
       "      <td>False</td>\n",
       "    </tr>\n",
       "    <tr>\n",
       "      <th>...</th>\n",
       "      <td>...</td>\n",
       "    </tr>\n",
       "    <tr>\n",
       "      <th>Venezuela</th>\n",
       "      <td>False</td>\n",
       "    </tr>\n",
       "    <tr>\n",
       "      <th>Vietnam</th>\n",
       "      <td>False</td>\n",
       "    </tr>\n",
       "    <tr>\n",
       "      <th>Yemen</th>\n",
       "      <td>True</td>\n",
       "    </tr>\n",
       "    <tr>\n",
       "      <th>Zambia</th>\n",
       "      <td>False</td>\n",
       "    </tr>\n",
       "    <tr>\n",
       "      <th>Zimbabwe</th>\n",
       "      <td>False</td>\n",
       "    </tr>\n",
       "  </tbody>\n",
       "</table>\n",
       "<p>193 rows × 1 columns</p>\n",
       "</div>"
      ],
      "text/plain": [
       "             wine_servings\n",
       "country                   \n",
       "Afghanistan           True\n",
       "Albania              False\n",
       "Algeria              False\n",
       "Andorra              False\n",
       "Angola               False\n",
       "...                    ...\n",
       "Venezuela            False\n",
       "Vietnam              False\n",
       "Yemen                 True\n",
       "Zambia               False\n",
       "Zimbabwe             False\n",
       "\n",
       "[193 rows x 1 columns]"
      ]
     },
     "execution_count": 70,
     "metadata": {},
     "output_type": "execute_result"
    }
   ],
   "source": [
    "alcohol.isnull()"
   ]
  },
  {
   "cell_type": "code",
   "execution_count": 74,
   "id": "1f4a644d-d2f5-41ef-a8ac-9da3b9d45379",
   "metadata": {},
   "outputs": [
    {
     "data": {
      "text/plain": [
       "Index(['Afghanistan', 'Albania', 'Algeria', 'Andorra', 'Angola',\n",
       "       'Antigua & Barbuda', 'Argentina', 'Armenia', 'Australia', 'Austria',\n",
       "       ...\n",
       "       'Tanzania', 'USA', 'Uruguay', 'Uzbekistan', 'Vanuatu', 'Venezuela',\n",
       "       'Vietnam', 'Yemen', 'Zambia', 'Zimbabwe'],\n",
       "      dtype='object', name='country', length=193)"
      ]
     },
     "execution_count": 74,
     "metadata": {},
     "output_type": "execute_result"
    }
   ],
   "source": [
    "alcohol[alcohol.isnull()].index"
   ]
  },
  {
   "cell_type": "code",
   "execution_count": null,
   "id": "ffde7404-fc73-42e1-ac85-5d9ed382ae0a",
   "metadata": {},
   "outputs": [],
   "source": []
  }
 ],
 "metadata": {
  "kernelspec": {
   "display_name": "Python 3 (ipykernel)",
   "language": "python",
   "name": "python3"
  },
  "language_info": {
   "codemirror_mode": {
    "name": "ipython",
    "version": 3
   },
   "file_extension": ".py",
   "mimetype": "text/x-python",
   "name": "python",
   "nbconvert_exporter": "python",
   "pygments_lexer": "ipython3",
   "version": "3.12.4"
  }
 },
 "nbformat": 4,
 "nbformat_minor": 5
}
