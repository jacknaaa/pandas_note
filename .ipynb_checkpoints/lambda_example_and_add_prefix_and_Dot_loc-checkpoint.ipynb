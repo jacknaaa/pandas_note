{
 "cells": [
  {
   "cell_type": "markdown",
   "id": "e7172693-2cc7-4dae-b815-74f415fa2161",
   "metadata": {},
   "source": [
    "Accessing Elements By Label"
   ]
  },
  {
   "cell_type": "code",
   "execution_count": 2,
   "id": "cf4aabf0-3e9a-4981-8352-e6a934a7e9b6",
   "metadata": {},
   "outputs": [],
   "source": [
    "import pandas as pd"
   ]
  },
  {
   "cell_type": "code",
   "execution_count": 3,
   "id": "d04af641-cd0d-46a3-8102-2ebc87690f4a",
   "metadata": {},
   "outputs": [],
   "source": [
    "from string import ascii_uppercase, ascii_lowercase"
   ]
  },
  {
   "cell_type": "code",
   "execution_count": 4,
   "id": "2852829c-cd60-4b01-bb72-129fd6a7285d",
   "metadata": {},
   "outputs": [
    {
     "data": {
      "text/plain": [
       "'abcdefghijklmnopqrstuvwxyz'"
      ]
     },
     "execution_count": 4,
     "metadata": {},
     "output_type": "execute_result"
    }
   ],
   "source": [
    "ascii_lowercase"
   ]
  },
  {
   "cell_type": "code",
   "execution_count": 5,
   "id": "0ddabcd7-147f-42a5-b482-2e4f338e60aa",
   "metadata": {},
   "outputs": [
    {
     "data": {
      "text/plain": [
       "'ABCDEFGHIJKLMNOPQRSTUVWXYZ'"
      ]
     },
     "execution_count": 5,
     "metadata": {},
     "output_type": "execute_result"
    }
   ],
   "source": [
    "ascii_uppercase"
   ]
  },
  {
   "cell_type": "code",
   "execution_count": 6,
   "id": "bed4be5c-1d58-4f4a-95e4-f481174e28fb",
   "metadata": {},
   "outputs": [],
   "source": [
    "labeled_alphabet = pd.Series(data=list(ascii_lowercase), \n",
    "                             index=map(lambda x: 'label_' + x, list(ascii_uppercase)))"
   ]
  },
  {
   "cell_type": "code",
   "execution_count": 7,
   "id": "bb743aee-ccad-49cf-8a9c-3f09cc07854f",
   "metadata": {},
   "outputs": [
    {
     "data": {
      "text/plain": [
       "label_A    a\n",
       "label_B    b\n",
       "label_C    c\n",
       "dtype: object"
      ]
     },
     "execution_count": 7,
     "metadata": {},
     "output_type": "execute_result"
    }
   ],
   "source": [
    "labeled_alphabet.head(3)"
   ]
  },
  {
   "cell_type": "code",
   "execution_count": 16,
   "id": "56173bec-73d9-4e35-9e31-df6ac747a3d2",
   "metadata": {},
   "outputs": [
    {
     "data": {
      "text/plain": [
       "'a'"
      ]
     },
     "execution_count": 16,
     "metadata": {},
     "output_type": "execute_result"
    }
   ],
   "source": [
    "labeled_alphabet['label_A']"
   ]
  },
  {
   "cell_type": "code",
   "execution_count": 20,
   "id": "87bb0aef-fe60-46b7-985f-52a687512bcf",
   "metadata": {},
   "outputs": [
    {
     "data": {
      "text/plain": [
       "label_A    a\n",
       "label_B    b\n",
       "label_C    c\n",
       "dtype: object"
      ]
     },
     "execution_count": 20,
     "metadata": {},
     "output_type": "execute_result"
    }
   ],
   "source": [
    "labeled_alphabet[0:3]"
   ]
  },
  {
   "cell_type": "code",
   "execution_count": 22,
   "id": "921fed7d-ee9c-46c8-a7bf-e3e334e36bc9",
   "metadata": {},
   "outputs": [
    {
     "data": {
      "text/plain": [
       "label_A    a\n",
       "label_B    b\n",
       "label_C    c\n",
       "dtype: object"
      ]
     },
     "execution_count": 22,
     "metadata": {},
     "output_type": "execute_result"
    }
   ],
   "source": [
    "labeled_alphabet[:'label_C']"
   ]
  },
  {
   "cell_type": "code",
   "execution_count": 24,
   "id": "98bf3ed7-db96-40b8-b3ef-0079a0407517",
   "metadata": {},
   "outputs": [
    {
     "data": {
      "text/plain": [
       "label_F    f\n",
       "label_G    g\n",
       "label_H    h\n",
       "label_I    i\n",
       "label_J    j\n",
       "dtype: object"
      ]
     },
     "execution_count": 24,
     "metadata": {},
     "output_type": "execute_result"
    }
   ],
   "source": [
    "labeled_alphabet['label_F':'label_J']"
   ]
  },
  {
   "cell_type": "code",
   "execution_count": 26,
   "id": "fa4d0a5f-a7b2-4a86-baa0-03570558a754",
   "metadata": {},
   "outputs": [
    {
     "data": {
      "text/plain": [
       "label_U    u\n",
       "label_V    v\n",
       "label_W    w\n",
       "label_X    x\n",
       "label_Y    y\n",
       "label_Z    z\n",
       "dtype: object"
      ]
     },
     "execution_count": 26,
     "metadata": {},
     "output_type": "execute_result"
    }
   ],
   "source": [
    "labeled_alphabet[-6:]"
   ]
  },
  {
   "cell_type": "code",
   "execution_count": 32,
   "id": "e8092eba-4426-451f-abf2-244b3ac0b68a",
   "metadata": {},
   "outputs": [],
   "source": [
    "letters = list(ascii_lowercase)"
   ]
  },
  {
   "cell_type": "code",
   "execution_count": 34,
   "id": "34fc23bf-e99d-4610-8334-c2841a9598bf",
   "metadata": {},
   "outputs": [
    {
     "data": {
      "text/plain": [
       "['a',\n",
       " 'b',\n",
       " 'c',\n",
       " 'd',\n",
       " 'e',\n",
       " 'f',\n",
       " 'g',\n",
       " 'h',\n",
       " 'i',\n",
       " 'j',\n",
       " 'k',\n",
       " 'l',\n",
       " 'm',\n",
       " 'n',\n",
       " 'o',\n",
       " 'p',\n",
       " 'q',\n",
       " 'r',\n",
       " 's',\n",
       " 't',\n",
       " 'u',\n",
       " 'v',\n",
       " 'w',\n",
       " 'x',\n",
       " 'y',\n",
       " 'z']"
      ]
     },
     "execution_count": 34,
     "metadata": {},
     "output_type": "execute_result"
    }
   ],
   "source": [
    "letters"
   ]
  },
  {
   "cell_type": "code",
   "execution_count": 40,
   "id": "28d69618-5607-4267-9daf-b0b981a75f0b",
   "metadata": {},
   "outputs": [
    {
     "data": {
      "text/plain": [
       "0     a\n",
       "1     b\n",
       "2     c\n",
       "3     d\n",
       "4     e\n",
       "5     f\n",
       "6     g\n",
       "7     h\n",
       "8     i\n",
       "9     j\n",
       "10    k\n",
       "11    l\n",
       "12    m\n",
       "13    n\n",
       "14    o\n",
       "15    p\n",
       "16    q\n",
       "17    r\n",
       "18    s\n",
       "19    t\n",
       "20    u\n",
       "21    v\n",
       "22    w\n",
       "23    x\n",
       "24    y\n",
       "25    z\n",
       "dtype: object"
      ]
     },
     "execution_count": 40,
     "metadata": {},
     "output_type": "execute_result"
    }
   ],
   "source": [
    "alphabet = pd.Series(letters)\n",
    "alphabet"
   ]
  },
  {
   "cell_type": "code",
   "execution_count": 42,
   "id": "e0b8aa9a-7b24-4a66-b846-9741d9ced692",
   "metadata": {},
   "outputs": [
    {
     "data": {
      "text/plain": [
       "0    a\n",
       "1    b\n",
       "2    c\n",
       "3    d\n",
       "4    e\n",
       "5    f\n",
       "dtype: object"
      ]
     },
     "execution_count": 42,
     "metadata": {},
     "output_type": "execute_result"
    }
   ],
   "source": [
    "alphabet.head(6)"
   ]
  },
  {
   "cell_type": "markdown",
   "id": "96c3955a-6d00-47c4-973f-f664fe5a9da1",
   "metadata": {},
   "source": [
    "The add_prefix() And add_suffix() Methods"
   ]
  },
  {
   "cell_type": "code",
   "execution_count": 44,
   "id": "9a72c847-76e7-4680-94ba-b7c418715c2a",
   "metadata": {},
   "outputs": [
    {
     "data": {
      "text/plain": [
       "label_0     a\n",
       "label_1     b\n",
       "label_2     c\n",
       "label_3     d\n",
       "label_4     e\n",
       "label_5     f\n",
       "label_6     g\n",
       "label_7     h\n",
       "label_8     i\n",
       "label_9     j\n",
       "label_10    k\n",
       "label_11    l\n",
       "label_12    m\n",
       "label_13    n\n",
       "label_14    o\n",
       "label_15    p\n",
       "label_16    q\n",
       "label_17    r\n",
       "label_18    s\n",
       "label_19    t\n",
       "label_20    u\n",
       "label_21    v\n",
       "label_22    w\n",
       "label_23    x\n",
       "label_24    y\n",
       "label_25    z\n",
       "dtype: object"
      ]
     },
     "execution_count": 44,
     "metadata": {},
     "output_type": "execute_result"
    }
   ],
   "source": [
    "alphabet.add_prefix('label_')"
   ]
  },
  {
   "cell_type": "code",
   "execution_count": 46,
   "id": "510f53ad-2554-4633-b55e-7237da166421",
   "metadata": {},
   "outputs": [],
   "source": [
    "alphabet = alphabet.add_suffix('_some_cool_ending')"
   ]
  },
  {
   "cell_type": "code",
   "execution_count": 48,
   "id": "562dff75-fb33-4098-8a73-7eae3bc95c8c",
   "metadata": {},
   "outputs": [
    {
     "data": {
      "text/plain": [
       "0_some_cool_ending    a\n",
       "1_some_cool_ending    b\n",
       "2_some_cool_ending    c\n",
       "3_some_cool_ending    d\n",
       "4_some_cool_ending    e\n",
       "dtype: object"
      ]
     },
     "execution_count": 48,
     "metadata": {},
     "output_type": "execute_result"
    }
   ],
   "source": [
    "alphabet.head()"
   ]
  },
  {
   "cell_type": "code",
   "execution_count": 50,
   "id": "a58ba51f-6899-44c3-9709-9121cdec7cb8",
   "metadata": {},
   "outputs": [
    {
     "data": {
      "text/plain": [
       "label_A    a\n",
       "label_C    c\n",
       "label_E    e\n",
       "label_G    g\n",
       "label_I    i\n",
       "label_K    k\n",
       "label_M    m\n",
       "label_O    o\n",
       "label_Q    q\n",
       "label_S    s\n",
       "label_U    u\n",
       "label_W    w\n",
       "label_Y    y\n",
       "dtype: object"
      ]
     },
     "execution_count": 50,
     "metadata": {},
     "output_type": "execute_result"
    }
   ],
   "source": [
    "labeled_alphabet.loc[[True if i%2==0 else False for i in range(26)]]"
   ]
  },
  {
   "cell_type": "markdown",
   "id": "a6e9a3eb-9937-47ab-b976-b5e2a1360aff",
   "metadata": {},
   "source": [
    "BONUS - Using Callables With .loc And .iloc"
   ]
  },
  {
   "cell_type": "code",
   "execution_count": 54,
   "id": "14ae0afa-2045-40b3-9e49-0496b72024a7",
   "metadata": {},
   "outputs": [
    {
     "data": {
      "text/plain": [
       "'v'"
      ]
     },
     "execution_count": 54,
     "metadata": {},
     "output_type": "execute_result"
    }
   ],
   "source": [
    "labeled_alphabet.loc['label_V']"
   ]
  },
  {
   "cell_type": "code",
   "execution_count": 56,
   "id": "657a5b36-c2f2-4d13-bb80-f5d03e358efc",
   "metadata": {},
   "outputs": [
    {
     "data": {
      "text/plain": [
       "'v'"
      ]
     },
     "execution_count": 56,
     "metadata": {},
     "output_type": "execute_result"
    }
   ],
   "source": [
    "labeled_alphabet.loc[lambda x: 'label_V']"
   ]
  },
  {
   "cell_type": "code",
   "execution_count": 58,
   "id": "f87ce23c-6855-49ed-a92a-e83c9240d693",
   "metadata": {},
   "outputs": [
    {
     "data": {
      "text/plain": [
       "label_V    v\n",
       "label_A    a\n",
       "dtype: object"
      ]
     },
     "execution_count": 58,
     "metadata": {},
     "output_type": "execute_result"
    }
   ],
   "source": [
    "labeled_alphabet.loc[lambda x: ['label_V', 'label_A']]"
   ]
  },
  {
   "cell_type": "code",
   "execution_count": 60,
   "id": "340f4c06-de68-48f9-9561-a92d0512c66f",
   "metadata": {},
   "outputs": [
    {
     "data": {
      "text/plain": [
       "label_A    a\n",
       "label_B    b\n",
       "label_C    c\n",
       "label_D    d\n",
       "label_E    e\n",
       "label_F    f\n",
       "label_G    g\n",
       "label_H    h\n",
       "label_I    i\n",
       "label_J    j\n",
       "label_K    k\n",
       "label_L    l\n",
       "label_M    m\n",
       "label_N    n\n",
       "label_O    o\n",
       "label_P    p\n",
       "label_Q    q\n",
       "label_R    r\n",
       "label_S    s\n",
       "label_T    t\n",
       "label_U    u\n",
       "label_V    v\n",
       "label_W    w\n",
       "label_X    x\n",
       "label_Y    y\n",
       "label_Z    z\n",
       "dtype: object"
      ]
     },
     "execution_count": 60,
     "metadata": {},
     "output_type": "execute_result"
    }
   ],
   "source": [
    "labeled_alphabet.loc[lambda x: [True for i in range(x.size)]]"
   ]
  },
  {
   "cell_type": "code",
   "execution_count": 62,
   "id": "9be2362e-4f44-41da-9a73-66b16218f480",
   "metadata": {},
   "outputs": [],
   "source": [
    "def every_fifth(x):\n",
    "  return [True if (i+1)%5==0 else False for i in range(x.size)]"
   ]
  },
  {
   "cell_type": "code",
   "execution_count": 64,
   "id": "0fb88933-38c1-483c-97ec-f94c9b7f0832",
   "metadata": {},
   "outputs": [
    {
     "data": {
      "text/plain": [
       "label_E    e\n",
       "label_J    j\n",
       "label_O    o\n",
       "label_T    t\n",
       "label_Y    y\n",
       "dtype: object"
      ]
     },
     "execution_count": 64,
     "metadata": {},
     "output_type": "execute_result"
    }
   ],
   "source": [
    "labeled_alphabet.iloc[every_fifth]"
   ]
  },
  {
   "cell_type": "code",
   "execution_count": null,
   "id": "4c3835e1-6117-4728-baf8-0006e435d916",
   "metadata": {},
   "outputs": [],
   "source": []
  }
 ],
 "metadata": {
  "kernelspec": {
   "display_name": "Python 3 (ipykernel)",
   "language": "python",
   "name": "python3"
  },
  "language_info": {
   "codemirror_mode": {
    "name": "ipython",
    "version": 3
   },
   "file_extension": ".py",
   "mimetype": "text/x-python",
   "name": "python",
   "nbconvert_exporter": "python",
   "pygments_lexer": "ipython3",
   "version": "3.12.4"
  }
 },
 "nbformat": 4,
 "nbformat_minor": 5
}
